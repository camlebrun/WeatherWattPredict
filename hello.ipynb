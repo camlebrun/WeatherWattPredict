{
 "cells": [
  {
   "cell_type": "code",
   "execution_count": 1,
   "metadata": {},
   "outputs": [],
   "source": [
    "import polars as pl\n"
   ]
  },
  {
   "cell_type": "code",
   "execution_count": 3,
   "metadata": {},
   "outputs": [],
   "source": [
    "df = pl.read_csv('data/data_departements.csv', separator=';')"
   ]
  },
  {
   "cell_type": "code",
   "execution_count": 7,
   "metadata": {},
   "outputs": [
    {
     "data": {
      "text/html": [
       "<div><style>\n",
       ".dataframe > thead > tr,\n",
       ".dataframe > tbody > tr {\n",
       "  text-align: right;\n",
       "  white-space: pre-wrap;\n",
       "}\n",
       "</style>\n",
       "<small>shape: (10, 56)</small><table border=\"1\" class=\"dataframe\"><thead><tr><th>NUM_POSTE</th><th>NOM_USUEL</th><th>LAT</th><th>LON</th><th>ALTI</th><th>AAAAMMJJ</th><th>RR</th><th>QRR</th><th>TN</th><th>QTN</th><th>HTN</th><th>QHTN</th><th>TX</th><th>QTX</th><th>HTX</th><th>QHTX</th><th>TM</th><th>QTM</th><th>TNTXM</th><th>QTNTXM</th><th>TAMPLI</th><th>QTAMPLI</th><th>TNSOL</th><th>QTNSOL</th><th>TN50</th><th>QTN50</th><th>DG</th><th>QDG</th><th>FFM</th><th>QFFM</th><th>FF2M</th><th>QFF2M</th><th>FXY</th><th>QFXY</th><th>DXY</th><th>QDXY</th><th>HXY</th><th>QHXY</th><th>FXI</th><th>QFXI</th><th>DXI</th><th>QDXI</th><th>HXI</th><th>QHXI</th><th>FXI2</th><th>QFXI2</th><th>DXI2</th><th>QDXI2</th><th>HXI2</th><th>QHXI2</th><th>FXI3S</th><th>QFXI3S</th><th>DXI3S</th><th>QDXI3S</th><th>HXI3S</th><th>QHXI3S</th></tr><tr><td>i64</td><td>str</td><td>f64</td><td>f64</td><td>i64</td><td>i64</td><td>f64</td><td>i64</td><td>str</td><td>str</td><td>str</td><td>str</td><td>str</td><td>str</td><td>str</td><td>str</td><td>str</td><td>str</td><td>str</td><td>str</td><td>str</td><td>str</td><td>str</td><td>str</td><td>str</td><td>str</td><td>str</td><td>str</td><td>str</td><td>str</td><td>str</td><td>str</td><td>str</td><td>str</td><td>str</td><td>str</td><td>str</td><td>str</td><td>str</td><td>str</td><td>str</td><td>str</td><td>str</td><td>str</td><td>str</td><td>str</td><td>str</td><td>str</td><td>str</td><td>str</td><td>str</td><td>str</td><td>str</td><td>str</td><td>str</td><td>str</td></tr></thead><tbody><tr><td>83153001</td><td>&quot;CAP CEPET&quot;</td><td>43.079333</td><td>5.940833</td><td>115</td><td>19900828</td><td>0.0</td><td>1</td><td>&quot;18.0&quot;</td><td>&quot;1&quot;</td><td>&quot;400&quot;</td><td>&quot;1&quot;</td><td>&quot;27.4&quot;</td><td>&quot;1&quot;</td><td>&quot;1100&quot;</td><td>&quot;1&quot;</td><td>&quot;24.0&quot;</td><td>&quot;1&quot;</td><td>&quot;22.7&quot;</td><td>&quot;1&quot;</td><td>&quot;9.4&quot;</td><td>&quot;1&quot;</td><td>null</td><td>null</td><td>null</td><td>null</td><td>null</td><td>null</td><td>&quot;3.5&quot;</td><td>&quot;1&quot;</td><td>null</td><td>null</td><td>null</td><td>null</td><td>null</td><td>null</td><td>null</td><td>null</td><td>null</td><td>null</td><td>null</td><td>null</td><td>null</td><td>null</td><td>null</td><td>null</td><td>null</td><td>null</td><td>null</td><td>null</td><td>null</td><td>null</td><td>null</td><td>null</td><td>null</td><td>null</td></tr><tr><td>83153001</td><td>&quot;CAP CEPET&quot;</td><td>43.079333</td><td>5.940833</td><td>115</td><td>19900829</td><td>0.0</td><td>1</td><td>&quot;19.0&quot;</td><td>&quot;1&quot;</td><td>&quot;500&quot;</td><td>&quot;1&quot;</td><td>&quot;28.0&quot;</td><td>&quot;1&quot;</td><td>&quot;1300&quot;</td><td>&quot;1&quot;</td><td>&quot;23.8&quot;</td><td>&quot;1&quot;</td><td>&quot;23.5&quot;</td><td>&quot;1&quot;</td><td>&quot;9.0&quot;</td><td>&quot;1&quot;</td><td>null</td><td>null</td><td>null</td><td>null</td><td>null</td><td>null</td><td>&quot;3.4&quot;</td><td>&quot;1&quot;</td><td>null</td><td>null</td><td>null</td><td>null</td><td>null</td><td>null</td><td>null</td><td>null</td><td>null</td><td>null</td><td>null</td><td>null</td><td>null</td><td>null</td><td>null</td><td>null</td><td>null</td><td>null</td><td>null</td><td>null</td><td>null</td><td>null</td><td>null</td><td>null</td><td>null</td><td>null</td></tr><tr><td>83153001</td><td>&quot;CAP CEPET&quot;</td><td>43.079333</td><td>5.940833</td><td>115</td><td>19900830</td><td>7.3</td><td>1</td><td>&quot;15.6&quot;</td><td>&quot;1&quot;</td><td>&quot;500&quot;</td><td>&quot;1&quot;</td><td>&quot;24.0&quot;</td><td>&quot;1&quot;</td><td>&quot;930&quot;</td><td>&quot;1&quot;</td><td>&quot;20.9&quot;</td><td>&quot;1&quot;</td><td>&quot;19.8&quot;</td><td>&quot;1&quot;</td><td>&quot;8.4&quot;</td><td>&quot;1&quot;</td><td>null</td><td>null</td><td>null</td><td>null</td><td>null</td><td>null</td><td>&quot;0.6&quot;</td><td>&quot;1&quot;</td><td>null</td><td>null</td><td>null</td><td>null</td><td>null</td><td>null</td><td>null</td><td>null</td><td>null</td><td>null</td><td>null</td><td>null</td><td>null</td><td>null</td><td>null</td><td>null</td><td>null</td><td>null</td><td>null</td><td>null</td><td>null</td><td>null</td><td>null</td><td>null</td><td>null</td><td>null</td></tr><tr><td>83153001</td><td>&quot;CAP CEPET&quot;</td><td>43.079333</td><td>5.940833</td><td>115</td><td>19900831</td><td>0.0</td><td>1</td><td>&quot;15.0&quot;</td><td>&quot;1&quot;</td><td>&quot;400&quot;</td><td>&quot;1&quot;</td><td>&quot;24.2&quot;</td><td>&quot;1&quot;</td><td>&quot;1630&quot;</td><td>&quot;1&quot;</td><td>&quot;20.5&quot;</td><td>&quot;1&quot;</td><td>&quot;19.6&quot;</td><td>&quot;1&quot;</td><td>&quot;9.2&quot;</td><td>&quot;1&quot;</td><td>null</td><td>null</td><td>null</td><td>null</td><td>null</td><td>null</td><td>&quot;9.9&quot;</td><td>&quot;1&quot;</td><td>null</td><td>null</td><td>null</td><td>null</td><td>null</td><td>null</td><td>null</td><td>null</td><td>null</td><td>null</td><td>null</td><td>null</td><td>null</td><td>null</td><td>null</td><td>null</td><td>null</td><td>null</td><td>null</td><td>null</td><td>null</td><td>null</td><td>null</td><td>null</td><td>null</td><td>null</td></tr><tr><td>83153001</td><td>&quot;CAP CEPET&quot;</td><td>43.079333</td><td>5.940833</td><td>115</td><td>19900901</td><td>0.0</td><td>1</td><td>&quot;13.0&quot;</td><td>&quot;1&quot;</td><td>&quot;500&quot;</td><td>&quot;1&quot;</td><td>&quot;22.3&quot;</td><td>&quot;1&quot;</td><td>&quot;1500&quot;</td><td>&quot;1&quot;</td><td>&quot;18.5&quot;</td><td>&quot;1&quot;</td><td>&quot;17.7&quot;</td><td>&quot;1&quot;</td><td>&quot;9.3&quot;</td><td>&quot;1&quot;</td><td>null</td><td>null</td><td>null</td><td>null</td><td>null</td><td>null</td><td>&quot;8.0&quot;</td><td>&quot;1&quot;</td><td>null</td><td>null</td><td>null</td><td>null</td><td>null</td><td>null</td><td>null</td><td>null</td><td>null</td><td>null</td><td>null</td><td>null</td><td>null</td><td>null</td><td>null</td><td>null</td><td>null</td><td>null</td><td>null</td><td>null</td><td>null</td><td>null</td><td>null</td><td>null</td><td>null</td><td>null</td></tr><tr><td>83153001</td><td>&quot;CAP CEPET&quot;</td><td>43.079333</td><td>5.940833</td><td>115</td><td>19900902</td><td>0.0</td><td>1</td><td>&quot;14.5&quot;</td><td>&quot;1&quot;</td><td>&quot;400&quot;</td><td>&quot;1&quot;</td><td>&quot;25.0&quot;</td><td>&quot;1&quot;</td><td>&quot;1500&quot;</td><td>&quot;1&quot;</td><td>&quot;20.6&quot;</td><td>&quot;1&quot;</td><td>&quot;19.8&quot;</td><td>&quot;1&quot;</td><td>&quot;10.5&quot;</td><td>&quot;1&quot;</td><td>null</td><td>null</td><td>null</td><td>null</td><td>null</td><td>null</td><td>&quot;2.6&quot;</td><td>&quot;1&quot;</td><td>null</td><td>null</td><td>null</td><td>null</td><td>null</td><td>null</td><td>null</td><td>null</td><td>null</td><td>null</td><td>null</td><td>null</td><td>null</td><td>null</td><td>null</td><td>null</td><td>null</td><td>null</td><td>null</td><td>null</td><td>null</td><td>null</td><td>null</td><td>null</td><td>null</td><td>null</td></tr><tr><td>83153001</td><td>&quot;CAP CEPET&quot;</td><td>43.079333</td><td>5.940833</td><td>115</td><td>19900903</td><td>0.0</td><td>1</td><td>&quot;14.2&quot;</td><td>&quot;1&quot;</td><td>&quot;500&quot;</td><td>&quot;1&quot;</td><td>&quot;26.6&quot;</td><td>&quot;1&quot;</td><td>&quot;1400&quot;</td><td>&quot;1&quot;</td><td>&quot;21.4&quot;</td><td>&quot;1&quot;</td><td>&quot;20.4&quot;</td><td>&quot;1&quot;</td><td>&quot;12.4&quot;</td><td>&quot;1&quot;</td><td>null</td><td>null</td><td>null</td><td>null</td><td>null</td><td>null</td><td>&quot;5.8&quot;</td><td>&quot;1&quot;</td><td>null</td><td>null</td><td>null</td><td>null</td><td>null</td><td>null</td><td>null</td><td>null</td><td>null</td><td>null</td><td>null</td><td>null</td><td>null</td><td>null</td><td>null</td><td>null</td><td>null</td><td>null</td><td>null</td><td>null</td><td>null</td><td>null</td><td>null</td><td>null</td><td>null</td><td>null</td></tr><tr><td>83153001</td><td>&quot;CAP CEPET&quot;</td><td>43.079333</td><td>5.940833</td><td>115</td><td>19900904</td><td>0.0</td><td>1</td><td>&quot;16.0&quot;</td><td>&quot;1&quot;</td><td>&quot;300&quot;</td><td>&quot;1&quot;</td><td>&quot;25.5&quot;</td><td>&quot;1&quot;</td><td>&quot;1300&quot;</td><td>&quot;1&quot;</td><td>&quot;21.8&quot;</td><td>&quot;1&quot;</td><td>&quot;20.8&quot;</td><td>&quot;1&quot;</td><td>&quot;9.5&quot;</td><td>&quot;1&quot;</td><td>null</td><td>null</td><td>null</td><td>null</td><td>null</td><td>null</td><td>&quot;7.6&quot;</td><td>&quot;1&quot;</td><td>null</td><td>null</td><td>null</td><td>null</td><td>null</td><td>null</td><td>null</td><td>null</td><td>null</td><td>null</td><td>null</td><td>null</td><td>null</td><td>null</td><td>null</td><td>null</td><td>null</td><td>null</td><td>null</td><td>null</td><td>null</td><td>null</td><td>null</td><td>null</td><td>null</td><td>null</td></tr><tr><td>83153001</td><td>&quot;CAP CEPET&quot;</td><td>43.079333</td><td>5.940833</td><td>115</td><td>19900905</td><td>0.0</td><td>1</td><td>&quot;18.0&quot;</td><td>&quot;1&quot;</td><td>&quot;400&quot;</td><td>&quot;1&quot;</td><td>&quot;25.0&quot;</td><td>&quot;1&quot;</td><td>&quot;1400&quot;</td><td>&quot;1&quot;</td><td>&quot;21.5&quot;</td><td>&quot;1&quot;</td><td>&quot;21.5&quot;</td><td>&quot;1&quot;</td><td>&quot;7.0&quot;</td><td>&quot;1&quot;</td><td>null</td><td>null</td><td>null</td><td>null</td><td>null</td><td>null</td><td>&quot;12.9&quot;</td><td>&quot;1&quot;</td><td>null</td><td>null</td><td>null</td><td>null</td><td>null</td><td>null</td><td>null</td><td>null</td><td>null</td><td>null</td><td>null</td><td>null</td><td>null</td><td>null</td><td>null</td><td>null</td><td>null</td><td>null</td><td>null</td><td>null</td><td>null</td><td>null</td><td>null</td><td>null</td><td>null</td><td>null</td></tr><tr><td>83153001</td><td>&quot;CAP CEPET&quot;</td><td>43.079333</td><td>5.940833</td><td>115</td><td>19900906</td><td>0.0</td><td>1</td><td>&quot;15.3&quot;</td><td>&quot;1&quot;</td><td>&quot;430&quot;</td><td>&quot;1&quot;</td><td>&quot;27.9&quot;</td><td>&quot;1&quot;</td><td>&quot;1115&quot;</td><td>&quot;1&quot;</td><td>&quot;21.6&quot;</td><td>&quot;1&quot;</td><td>&quot;21.6&quot;</td><td>&quot;1&quot;</td><td>&quot;12.6&quot;</td><td>&quot;1&quot;</td><td>null</td><td>null</td><td>null</td><td>null</td><td>null</td><td>null</td><td>&quot;6.9&quot;</td><td>&quot;1&quot;</td><td>null</td><td>null</td><td>null</td><td>null</td><td>null</td><td>null</td><td>null</td><td>null</td><td>null</td><td>null</td><td>null</td><td>null</td><td>null</td><td>null</td><td>null</td><td>null</td><td>null</td><td>null</td><td>null</td><td>null</td><td>null</td><td>null</td><td>null</td><td>null</td><td>null</td><td>null</td></tr></tbody></table></div>"
      ],
      "text/plain": [
       "shape: (10, 56)\n",
       "┌───────────┬───────────┬───────────┬──────────┬───┬───────┬────────┬───────┬────────┐\n",
       "│ NUM_POSTE ┆ NOM_USUEL ┆ LAT       ┆ LON      ┆ … ┆ DXI3S ┆ QDXI3S ┆ HXI3S ┆ QHXI3S │\n",
       "│ ---       ┆ ---       ┆ ---       ┆ ---      ┆   ┆ ---   ┆ ---    ┆ ---   ┆ ---    │\n",
       "│ i64       ┆ str       ┆ f64       ┆ f64      ┆   ┆ str   ┆ str    ┆ str   ┆ str    │\n",
       "╞═══════════╪═══════════╪═══════════╪══════════╪═══╪═══════╪════════╪═══════╪════════╡\n",
       "│ 83153001  ┆ CAP CEPET ┆ 43.079333 ┆ 5.940833 ┆ … ┆ null  ┆ null   ┆ null  ┆ null   │\n",
       "│ 83153001  ┆ CAP CEPET ┆ 43.079333 ┆ 5.940833 ┆ … ┆ null  ┆ null   ┆ null  ┆ null   │\n",
       "│ 83153001  ┆ CAP CEPET ┆ 43.079333 ┆ 5.940833 ┆ … ┆ null  ┆ null   ┆ null  ┆ null   │\n",
       "│ 83153001  ┆ CAP CEPET ┆ 43.079333 ┆ 5.940833 ┆ … ┆ null  ┆ null   ┆ null  ┆ null   │\n",
       "│ …         ┆ …         ┆ …         ┆ …        ┆ … ┆ …     ┆ …      ┆ …     ┆ …      │\n",
       "│ 83153001  ┆ CAP CEPET ┆ 43.079333 ┆ 5.940833 ┆ … ┆ null  ┆ null   ┆ null  ┆ null   │\n",
       "│ 83153001  ┆ CAP CEPET ┆ 43.079333 ┆ 5.940833 ┆ … ┆ null  ┆ null   ┆ null  ┆ null   │\n",
       "│ 83153001  ┆ CAP CEPET ┆ 43.079333 ┆ 5.940833 ┆ … ┆ null  ┆ null   ┆ null  ┆ null   │\n",
       "│ 83153001  ┆ CAP CEPET ┆ 43.079333 ┆ 5.940833 ┆ … ┆ null  ┆ null   ┆ null  ┆ null   │\n",
       "└───────────┴───────────┴───────────┴──────────┴───┴───────┴────────┴───────┴────────┘"
      ]
     },
     "execution_count": 7,
     "metadata": {},
     "output_type": "execute_result"
    }
   ],
   "source": [
    "df.tail(10)"
   ]
  },
  {
   "cell_type": "code",
   "execution_count": null,
   "metadata": {},
   "outputs": [],
   "source": [
    "#df.select('code_departement').filter(pl.col('code_departement') == '90').collect()"
   ]
  }
 ],
 "metadata": {
  "kernelspec": {
   "display_name": "elec_env",
   "language": "python",
   "name": "python3"
  },
  "language_info": {
   "codemirror_mode": {
    "name": "ipython",
    "version": 3
   },
   "file_extension": ".py",
   "mimetype": "text/x-python",
   "name": "python",
   "nbconvert_exporter": "python",
   "pygments_lexer": "ipython3",
   "version": "3.11.6"
  }
 },
 "nbformat": 4,
 "nbformat_minor": 2
}
